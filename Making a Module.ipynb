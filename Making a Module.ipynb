{
 "cells": [
  {
   "cell_type": "markdown",
   "metadata": {},
   "source": [
    "# Making a Module\n",
    "One advantage of functions is the way they separate blocks of code from\n",
    "your main program. By using descriptive names for your functions, your\n",
    "main program will be much easier to follow. You can go a step further by\n",
    "storing your functions in a separate file called a module and then importing\n",
    "that module into your main program. An import statement tells Python to\n",
    "make the code in a module available in the currently running program file.\n",
    "\n",
    "Storing your functions in a separate file allows you to hide the details of\n",
    "your program’s code and focus on its higher-level logic. It also allows you to\n",
    "reuse functions in many different programs. When you store your functions\n",
    "in separate files, you can share those files with other programmers without\n",
    "having to share your entire program."
   ]
  },
  {
   "cell_type": "code",
   "execution_count": 1,
   "metadata": {},
   "outputs": [],
   "source": [
    "import my_module as mod\n",
    "#from my_module import *"
   ]
  },
  {
   "cell_type": "code",
   "execution_count": 2,
   "metadata": {},
   "outputs": [
    {
     "data": {
      "text/plain": [
       "6362.55"
      ]
     },
     "execution_count": 2,
     "metadata": {},
     "output_type": "execute_result"
    }
   ],
   "source": [
    "mod.area_of_circle(45)"
   ]
  },
  {
   "cell_type": "code",
   "execution_count": 41,
   "metadata": {},
   "outputs": [
    {
     "name": "stdout",
     "output_type": "stream",
     "text": [
      "The size of my pizza should be 9\n",
      "Toppings: ('mushrooms', 'pepproni')\n"
     ]
    }
   ],
   "source": [
    "mod.make_pizza(9,'mushrooms','pepproni')"
   ]
  },
  {
   "cell_type": "code",
   "execution_count": 42,
   "metadata": {},
   "outputs": [
    {
     "name": "stdout",
     "output_type": "stream",
     "text": [
      "Hello, Ali!\n",
      "Hello, Noman!\n",
      "Hello, Haris!\n"
     ]
    }
   ],
   "source": [
    "mod.greet_users(['ali','Noman','Haris'])"
   ]
  },
  {
   "cell_type": "code",
   "execution_count": null,
   "metadata": {},
   "outputs": [],
   "source": []
  }
 ],
 "metadata": {
  "kernelspec": {
   "display_name": "Python 3",
   "language": "python",
   "name": "python3"
  },
  "language_info": {
   "codemirror_mode": {
    "name": "ipython",
    "version": 3
   },
   "file_extension": ".py",
   "mimetype": "text/x-python",
   "name": "python",
   "nbconvert_exporter": "python",
   "pygments_lexer": "ipython3",
   "version": "3.7.4"
  }
 },
 "nbformat": 4,
 "nbformat_minor": 2
}
